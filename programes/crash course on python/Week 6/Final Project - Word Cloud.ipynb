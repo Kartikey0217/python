{
 "cells": [
  {
   "cell_type": "markdown",
   "metadata": {},
   "source": [
    "# Final Project - Word Cloud"
   ]
  },
  {
   "cell_type": "markdown",
   "metadata": {},
   "source": [
    "For this project, you'll create a \"word cloud\" from a text by writing a script.  This script needs to process the text, remove punctuation, ignore case and words that do not contain all alphabets, count the frequencies, and ignore uninteresting or irrelevant words.  A dictionary is the output of the `calculate_frequencies` function.  The `wordcloud` module will then generate the image from your dictionary."
   ]
  },
  {
   "cell_type": "markdown",
   "metadata": {},
   "source": [
    "For the input text of your script, you will need to provide a file that contains text only.  For the text itself, you can copy and paste the contents of a website you like.  Or you can use a site like [Project Gutenberg](https://www.gutenberg.org/) to find books that are available online.  You could see what word clouds you can get from famous books, like a Shakespeare play or a novel by Jane Austen. Save this as a .txt file somewhere on your computer.\n",
    "<br><br>\n",
    "Now you will need to upload your input file here so that your script will be able to process it.  To do the upload, you will need an uploader widget.  Run the following cell to perform all the installs and imports for your word cloud script and uploader widget.  It may take a minute for all of this to run and there will be a lot of output messages. But, be patient. Once you get the following final line of output, the code is done executing. Then you can continue on with the rest of the instructions for this notebook.\n",
    "<br><br>\n",
    "**Enabling notebook extension fileupload/extension...**\n",
    "<br>\n",
    "**- Validating: <font color =green>OK</font>**"
   ]
  },
  {
   "cell_type": "code",
   "execution_count": 4,
   "metadata": {},
   "outputs": [
    {
     "output_type": "stream",
     "name": "stderr",
     "text": "ERROR: Command errored out with exit status 1:\n     command: 'c:\\users\\saksham\\appdata\\local\\programs\\python\\python38-32\\python.exe' -u -c 'import sys, setuptools, tokenize; sys.argv[0] = '\"'\"'C:\\\\Users\\\\SAKSHAM\\\\AppData\\\\Local\\\\Temp\\\\pip-install-lhqckj47\\\\wordcloud\\\\setup.py'\"'\"'; __file__='\"'\"'C:\\\\Users\\\\SAKSHAM\\\\AppData\\\\Local\\\\Temp\\\\pip-install-lhqckj47\\\\wordcloud\\\\setup.py'\"'\"';f=getattr(tokenize, '\"'\"'open'\"'\"', open)(__file__);code=f.read().replace('\"'\"'\\r\\n'\"'\"', '\"'\"'\\n'\"'\"');f.close();exec(compile(code, __file__, '\"'\"'exec'\"'\"'))' install --record 'C:\\Users\\SAKSHAM\\AppData\\Local\\Temp\\pip-record-waw16uyn\\install-record.txt' --single-version-externally-managed --compile --install-headers 'c:\\users\\saksham\\appdata\\local\\programs\\python\\python38-32\\Include\\wordcloud'\n         cwd: C:\\Users\\SAKSHAM\\AppData\\Local\\Temp\\pip-install-lhqckj47\\wordcloud\\\n    Complete output (20 lines):\n    running install\n    running build\n    running build_py\n    creating build\n    creating build\\lib.win32-3.8\n    creating build\\lib.win32-3.8\\wordcloud\n    copying wordcloud\\color_from_image.py -> build\\lib.win32-3.8\\wordcloud\n    copying wordcloud\\tokenization.py -> build\\lib.win32-3.8\\wordcloud\n    copying wordcloud\\wordcloud.py -> build\\lib.win32-3.8\\wordcloud\n    copying wordcloud\\wordcloud_cli.py -> build\\lib.win32-3.8\\wordcloud\n    copying wordcloud\\_version.py -> build\\lib.win32-3.8\\wordcloud\n    copying wordcloud\\__init__.py -> build\\lib.win32-3.8\\wordcloud\n    copying wordcloud\\__main__.py -> build\\lib.win32-3.8\\wordcloud\n    copying wordcloud\\stopwords -> build\\lib.win32-3.8\\wordcloud\n    copying wordcloud\\DroidSansMono.ttf -> build\\lib.win32-3.8\\wordcloud\n    UPDATING build\\lib.win32-3.8\\wordcloud/_version.py\n    set build\\lib.win32-3.8\\wordcloud/_version.py to '1.6.0'\n    running build_ext\n    building 'wordcloud.query_integral_image' extension\n    error: Microsoft Visual C++ 14.0 is required. Get it with \"Microsoft Visual C++ Build Tools\": https://visualstudio.microsoft.com/downloads/\n    ----------------------------------------\nERROR: Command errored out with exit status 1: 'c:\\users\\saksham\\appdata\\local\\programs\\python\\python38-32\\python.exe' -u -c 'import sys, setuptools, tokenize; sys.argv[0] = '\"'\"'C:\\\\Users\\\\SAKSHAM\\\\AppData\\\\Local\\\\Temp\\\\pip-install-lhqckj47\\\\wordcloud\\\\setup.py'\"'\"'; __file__='\"'\"'C:\\\\Users\\\\SAKSHAM\\\\AppData\\\\Local\\\\Temp\\\\pip-install-lhqckj47\\\\wordcloud\\\\setup.py'\"'\"';f=getattr(tokenize, '\"'\"'open'\"'\"', open)(__file__);code=f.read().replace('\"'\"'\\r\\n'\"'\"', '\"'\"'\\n'\"'\"');f.close();exec(compile(code, __file__, '\"'\"'exec'\"'\"'))' install --record 'C:\\Users\\SAKSHAM\\AppData\\Local\\Temp\\pip-record-waw16uyn\\install-record.txt' --single-version-externally-managed --compile --install-headers 'c:\\users\\saksham\\appdata\\local\\programs\\python\\python38-32\\Include\\wordcloud' Check the logs for full command output.\nCollecting wordcloud\n  Using cached wordcloud-1.6.0.tar.gz (214 kB)\nRequirement already satisfied: numpy>=1.6.1 in c:\\users\\saksham\\appdata\\local\\programs\\python\\python38-32\\lib\\site-packages (from wordcloud) (1.18.1)\nRequirement already satisfied: pillow in c:\\users\\saksham\\appdata\\local\\programs\\python\\python38-32\\lib\\site-packages (from wordcloud) (7.1.1)\nRequirement already satisfied: matplotlib in c:\\users\\saksham\\appdata\\local\\programs\\python\\python38-32\\lib\\site-packages (from wordcloud) (3.2.1)\nRequirement already satisfied: cycler>=0.10 in c:\\users\\saksham\\appdata\\local\\programs\\python\\python38-32\\lib\\site-packages (from matplotlib->wordcloud) (0.10.0)\nRequirement already satisfied: python-dateutil>=2.1 in c:\\users\\saksham\\appdata\\local\\programs\\python\\python38-32\\lib\\site-packages (from matplotlib->wordcloud) (2.8.1)\nRequirement already satisfied: kiwisolver>=1.0.1 in c:\\users\\saksham\\appdata\\local\\programs\\python\\python38-32\\lib\\site-packages (from matplotlib->wordcloud) (1.2.0)\nRequirement already satisfied: pyparsing!=2.0.4,!=2.1.2,!=2.1.6,>=2.0.1 in c:\\users\\saksham\\appdata\\local\\programs\\python\\python38-32\\lib\\site-packages (from matplotlib->wordcloud) (2.4.7)\nRequirement already satisfied: six in c:\\users\\saksham\\appdata\\local\\programs\\python\\python38-32\\lib\\site-packages (from cycler>=0.10->matplotlib->wordcloud) (1.14.0)\nInstalling collected packages: wordcloud\n    Running setup.py install for wordcloud: started\n    Running setup.py install for wordcloud: finished with status 'error'\nRequirement already satisfied: fileupload in c:\\users\\saksham\\appdata\\local\\programs\\python\\python38-32\\lib\\site-packages (0.1.5)\nRequirement already satisfied: ipywidgets>=5.1 in c:\\users\\saksham\\appdata\\roaming\\python\\python38\\site-packages (from fileupload) (7.5.1)\nRequirement already satisfied: notebook>=4.2 in c:\\users\\saksham\\appdata\\roaming\\python\\python38\\site-packages (from fileupload) (6.0.3)\nRequirement already satisfied: traitlets>=4.2 in c:\\users\\saksham\\appdata\\roaming\\python\\python38\\site-packages (from fileupload) (4.3.3)\nRequirement already satisfied: widgetsnbextension~=3.5.0 in c:\\users\\saksham\\appdata\\roaming\\python\\python38\\site-packages (from ipywidgets>=5.1->fileupload) (3.5.1)\nRequirement already satisfied: ipykernel>=4.5.1 in c:\\users\\saksham\\appdata\\roaming\\python\\python38\\site-packages (from ipywidgets>=5.1->fileupload) (5.2.1)\nRequirement already satisfied: nbformat>=4.2.0 in c:\\users\\saksham\\appdata\\roaming\\python\\python38\\site-packages (from ipywidgets>=5.1->fileupload) (5.0.6)\nRequirement already satisfied: ipython>=4.0.0; python_version >= \"3.3\" in c:\\users\\saksham\\appdata\\roaming\\python\\python38\\site-packages (from ipywidgets>=5.1->fileupload) (7.13.0)\nRequirement already satisfied: jinja2 in c:\\users\\saksham\\appdata\\roaming\\python\\python38\\site-packages (from notebook>=4.2->fileupload) (2.11.2)\nRequirement already satisfied: terminado>=0.8.1 in c:\\users\\saksham\\appdata\\roaming\\python\\python38\\site-packages (from notebook>=4.2->fileupload) (0.8.3)\nRequirement already satisfied: pyzmq>=17 in c:\\users\\saksham\\appdata\\roaming\\python\\python38\\site-packages (from notebook>=4.2->fileupload) (19.0.0)\nRequirement already satisfied: Send2Trash in c:\\users\\saksham\\appdata\\roaming\\python\\python38\\site-packages (from notebook>=4.2->fileupload) (1.5.0)\nRequirement already satisfied: jupyter-core>=4.6.1 in c:\\users\\saksham\\appdata\\roaming\\python\\python38\\site-packages (from notebook>=4.2->fileupload) (4.6.3)\nRequirement already satisfied: ipython-genutils in c:\\users\\saksham\\appdata\\roaming\\python\\python38\\site-packages (from notebook>=4.2->fileupload) (0.2.0)\nRequirement already satisfied: jupyter-client>=5.3.4 in c:\\users\\saksham\\appdata\\roaming\\python\\python38\\site-packages (from notebook>=4.2->fileupload) (6.1.3)\nRequirement already satisfied: prometheus-client in c:\\users\\saksham\\appdata\\roaming\\python\\python38\\site-packages (from notebook>=4.2->fileupload) (0.7.1)\nRequirement already satisfied: nbconvert in c:\\users\\saksham\\appdata\\roaming\\python\\python38\\site-packages (from notebook>=4.2->fileupload) (5.6.1)\nRequirement already satisfied: tornado>=5.0 in c:\\users\\saksham\\appdata\\roaming\\python\\python38\\site-packages (from notebook>=4.2->fileupload) (6.0.4)\nRequirement already satisfied: six in c:\\users\\saksham\\appdata\\local\\programs\\python\\python38-32\\lib\\site-packages (from traitlets>=4.2->fileupload) (1.14.0)\nRequirement already satisfied: decorator in c:\\users\\saksham\\appdata\\roaming\\python\\python38\\site-packages (from traitlets>=4.2->fileupload) (4.4.2)\nRequirement already satisfied: jsonschema!=2.5.0,>=2.4 in c:\\users\\saksham\\appdata\\roaming\\python\\python38\\site-packages (from nbformat>=4.2.0->ipywidgets>=5.1->fileupload) (3.2.0)\nRequirement already satisfied: colorama; sys_platform == \"win32\" in c:\\users\\saksham\\appdata\\roaming\\python\\python38\\site-packages (from ipython>=4.0.0; python_version >= \"3.3\"->ipywidgets>=5.1->fileupload) (0.4.3)\nRequirement already satisfied: backcall in c:\\users\\saksham\\appdata\\roaming\\python\\python38\\site-packages (from ipython>=4.0.0; python_version >= \"3.3\"->ipywidgets>=5.1->fileupload) (0.1.0)\nRequirement already satisfied: prompt-toolkit!=3.0.0,!=3.0.1,<3.1.0,>=2.0.0 in c:\\users\\saksham\\appdata\\roaming\\python\\python38\\site-packages (from ipython>=4.0.0; python_version >= \"3.3\"->ipywidgets>=5.1->fileupload) (3.0.5)\nRequirement already satisfied: pickleshare in c:\\users\\saksham\\appdata\\roaming\\python\\python38\\site-packages (from ipython>=4.0.0; python_version >= \"3.3\"->ipywidgets>=5.1->fileupload) (0.7.5)\nRequirement already satisfied: setuptools>=18.5 in c:\\users\\saksham\\appdata\\local\\programs\\python\\python38-32\\lib\\site-packages (from ipython>=4.0.0; python_version >= \"3.3\"->ipywidgets>=5.1->fileupload) (41.2.0)\nRequirement already satisfied: pygments in c:\\users\\saksham\\appdata\\roaming\\python\\python38\\site-packages (from ipython>=4.0.0; python_version >= \"3.3\"->ipywidgets>=5.1->fileupload) (2.6.1)\nRequirement already satisfied: jedi>=0.10 in c:\\users\\saksham\\appdata\\roaming\\python\\python38\\site-packages (from ipython>=4.0.0; python_version >= \"3.3\"->ipywidgets>=5.1->fileupload) (0.17.0)\nRequirement already satisfied: MarkupSafe>=0.23 in c:\\users\\saksham\\appdata\\roaming\\python\\python38\\site-packages (from jinja2->notebook>=4.2->fileupload) (1.1.1)\nRequirement already satisfied: pywinpty>=0.5; os_name == \"nt\" in c:\\users\\saksham\\appdata\\roaming\\python\\python38\\site-packages (from terminado>=0.8.1->notebook>=4.2->fileupload) (0.5.7)\nRequirement already satisfied: pywin32>=1.0; sys_platform == \"win32\" in c:\\users\\saksham\\appdata\\roaming\\python\\python38\\site-packages (from jupyter-core>=4.6.1->notebook>=4.2->fileupload) (227)\nRequirement already satisfied: python-dateutil>=2.1 in c:\\users\\saksham\\appdata\\local\\programs\\python\\python38-32\\lib\\site-packages (from jupyter-client>=5.3.4->notebook>=4.2->fileupload) (2.8.1)\nRequirement already satisfied: defusedxml in c:\\users\\saksham\\appdata\\roaming\\python\\python38\\site-packages (from nbconvert->notebook>=4.2->fileupload) (0.6.0)\nRequirement already satisfied: testpath in c:\\users\\saksham\\appdata\\roaming\\python\\python38\\site-packages (from nbconvert->notebook>=4.2->fileupload) (0.4.4)\nRequirement already satisfied: entrypoints>=0.2.2 in c:\\users\\saksham\\appdata\\roaming\\python\\python38\\site-packages (from nbconvert->notebook>=4.2->fileupload) (0.3)\nRequirement already satisfied: mistune<2,>=0.8.1 in c:\\users\\saksham\\appdata\\roaming\\python\\python38\\site-packages (from nbconvert->notebook>=4.2->fileupload) (0.8.4)\nRequirement already satisfied: bleach in c:\\users\\saksham\\appdata\\roaming\\python\\python38\\site-packages (from nbconvert->notebook>=4.2->fileupload) (3.1.4)\nRequirement already satisfied: pandocfilters>=1.4.1 in c:\\users\\saksham\\appdata\\roaming\\python\\python38\\site-packages (from nbconvert->notebook>=4.2->fileupload) (1.4.2)\nRequirement already satisfied: attrs>=17.4.0 in c:\\users\\saksham\\appdata\\roaming\\python\\python38\\site-packages (from jsonschema!=2.5.0,>=2.4->nbformat>=4.2.0->ipywidgets>=5.1->fileupload) (19.3.0)\nRequirement already satisfied: pyrsistent>=0.14.0 in c:\\users\\saksham\\appdata\\roaming\\python\\python38\\site-packages (from jsonschema!=2.5.0,>=2.4->nbformat>=4.2.0->ipywidgets>=5.1->fileupload) (0.16.0)\nRequirement already satisfied: wcwidth in c:\\users\\saksham\\appdata\\roaming\\python\\python38\\site-packages (from prompt-toolkit!=3.0.0,!=3.0.1,<3.1.0,>=2.0.0->ipython>=4.0.0; python_version >= \"3.3\"->ipywidgets>=5.1->fileupload) (0.1.9)\nRequirement already satisfied: parso>=0.7.0 in c:\\users\\saksham\\appdata\\roaming\\python\\python38\\site-packages (from jedi>=0.10->ipython>=4.0.0; python_version >= \"3.3\"->ipywidgets>=5.1->fileupload) (0.7.0)\nRequirement already satisfied: webencodings in c:\\users\\saksham\\appdata\\roaming\\python\\python38\\site-packages (from bleach->nbconvert->notebook>=4.2->fileupload) (0.5.1)\nRequirement already satisfied: ipywidgets in c:\\users\\saksham\\appdata\\roaming\\python\\python38\\site-packages (7.5.1)\nRequirement already satisfied: widgetsnbextension~=3.5.0 in c:\\users\\saksham\\appdata\\roaming\\python\\python38\\site-packages (from ipywidgets) (3.5.1)\nRequirement already satisfied: ipykernel>=4.5.1 in c:\\users\\saksham\\appdata\\roaming\\python\\python38\\site-packages (from ipywidgets) (5.2.1)\nRequirement already satisfied: traitlets>=4.3.1 in c:\\users\\saksham\\appdata\\roaming\\python\\python38\\site-packages (from ipywidgets) (4.3.3)\nRequirement already satisfied: nbformat>=4.2.0 in c:\\users\\saksham\\appdata\\roaming\\python\\python38\\site-packages (from ipywidgets) (5.0.6)\nRequirement already satisfied: ipython>=4.0.0; python_version >= \"3.3\" in c:\\users\\saksham\\appdata\\roaming\\python\\python38\\site-packages (from ipywidgets) (7.13.0)\nRequirement already satisfied: notebook>=4.4.1 in c:\\users\\saksham\\appdata\\roaming\\python\\python38\\site-packages (from widgetsnbextension~=3.5.0->ipywidgets) (6.0.3)\nRequirement already satisfied: tornado>=4.2 in c:\\users\\saksham\\appdata\\roaming\\python\\python38\\site-packages (from ipykernel>=4.5.1->ipywidgets) (6.0.4)\nRequirement already satisfied: jupyter-client in c:\\users\\saksham\\appdata\\roaming\\python\\python38\\site-packages (from ipykernel>=4.5.1->ipywidgets) (6.1.3)\nRequirement already satisfied: decorator in c:\\users\\saksham\\appdata\\roaming\\python\\python38\\site-packages (from traitlets>=4.3.1->ipywidgets) (4.4.2)\nRequirement already satisfied: ipython-genutils in c:\\users\\saksham\\appdata\\roaming\\python\\python38\\site-packages (from traitlets>=4.3.1->ipywidgets) (0.2.0)\nRequirement already satisfied: six in c:\\users\\saksham\\appdata\\local\\programs\\python\\python38-32\\lib\\site-packages (from traitlets>=4.3.1->ipywidgets) (1.14.0)\nRequirement already satisfied: jsonschema!=2.5.0,>=2.4 in c:\\users\\saksham\\appdata\\roaming\\python\\python38\\site-packages (from nbformat>=4.2.0->ipywidgets) (3.2.0)\nRequirement already satisfied: jupyter-core in c:\\users\\saksham\\appdata\\roaming\\python\\python38\\site-packages (from nbformat>=4.2.0->ipywidgets) (4.6.3)\nRequirement already satisfied: colorama; sys_platform == \"win32\" in c:\\users\\saksham\\appdata\\roaming\\python\\python38\\site-packages (from ipython>=4.0.0; python_version >= \"3.3\"->ipywidgets) (0.4.3)\nRequirement already satisfied: setuptools>=18.5 in c:\\users\\saksham\\appdata\\local\\programs\\python\\python38-32\\lib\\site-packages (from ipython>=4.0.0; python_version >= \"3.3\"->ipywidgets) (41.2.0)\nRequirement already satisfied: jedi>=0.10 in c:\\users\\saksham\\appdata\\roaming\\python\\python38\\site-packages (from ipython>=4.0.0; python_version >= \"3.3\"->ipywidgets) (0.17.0)\nRequirement already satisfied: backcall in c:\\users\\saksham\\appdata\\roaming\\python\\python38\\site-packages (from ipython>=4.0.0; python_version >= \"3.3\"->ipywidgets) (0.1.0)\nRequirement already satisfied: pickleshare in c:\\users\\saksham\\appdata\\roaming\\python\\python38\\site-packages (from ipython>=4.0.0; python_version >= \"3.3\"->ipywidgets) (0.7.5)\nRequirement already satisfied: pygments in c:\\users\\saksham\\appdata\\roaming\\python\\python38\\site-packages (from ipython>=4.0.0; python_version >= \"3.3\"->ipywidgets) (2.6.1)\nRequirement already satisfied: prompt-toolkit!=3.0.0,!=3.0.1,<3.1.0,>=2.0.0 in c:\\users\\saksham\\appdata\\roaming\\python\\python38\\site-packages (from ipython>=4.0.0; python_version >= \"3.3\"->ipywidgets) (3.0.5)\nRequirement already satisfied: jinja2 in c:\\users\\saksham\\appdata\\roaming\\python\\python38\\site-packages (from notebook>=4.4.1->widgetsnbextension~=3.5.0->ipywidgets) (2.11.2)\nRequirement already satisfied: pyzmq>=17 in c:\\users\\saksham\\appdata\\roaming\\python\\python38\\site-packages (from notebook>=4.4.1->widgetsnbextension~=3.5.0->ipywidgets) (19.0.0)\nRequirement already satisfied: Send2Trash in c:\\users\\saksham\\appdata\\roaming\\python\\python38\\site-packages (from notebook>=4.4.1->widgetsnbextension~=3.5.0->ipywidgets) (1.5.0)\nRequirement already satisfied: prometheus-client in c:\\users\\saksham\\appdata\\roaming\\python\\python38\\site-packages (from notebook>=4.4.1->widgetsnbextension~=3.5.0->ipywidgets) (0.7.1)\nRequirement already satisfied: nbconvert in c:\\users\\saksham\\appdata\\roaming\\python\\python38\\site-packages (from notebook>=4.4.1->widgetsnbextension~=3.5.0->ipywidgets) (5.6.1)\nRequirement already satisfied: terminado>=0.8.1 in c:\\users\\saksham\\appdata\\roaming\\python\\python38\\site-packages (from notebook>=4.4.1->widgetsnbextension~=3.5.0->ipywidgets) (0.8.3)\nRequirement already satisfied: python-dateutil>=2.1 in c:\\users\\saksham\\appdata\\local\\programs\\python\\python38-32\\lib\\site-packages (from jupyter-client->ipykernel>=4.5.1->ipywidgets) (2.8.1)\nRequirement already satisfied: pyrsistent>=0.14.0 in c:\\users\\saksham\\appdata\\roaming\\python\\python38\\site-packages (from jsonschema!=2.5.0,>=2.4->nbformat>=4.2.0->ipywidgets) (0.16.0)\nRequirement already satisfied: attrs>=17.4.0 in c:\\users\\saksham\\appdata\\roaming\\python\\python38\\site-packages (from jsonschema!=2.5.0,>=2.4->nbformat>=4.2.0->ipywidgets) (19.3.0)\nRequirement already satisfied: pywin32>=1.0; sys_platform == \"win32\" in c:\\users\\saksham\\appdata\\roaming\\python\\python38\\site-packages (from jupyter-core->nbformat>=4.2.0->ipywidgets) (227)\nRequirement already satisfied: parso>=0.7.0 in c:\\users\\saksham\\appdata\\roaming\\python\\python38\\site-packages (from jedi>=0.10->ipython>=4.0.0; python_version >= \"3.3\"->ipywidgets) (0.7.0)\nRequirement already satisfied: wcwidth in c:\\users\\saksham\\appdata\\roaming\\python\\python38\\site-packages (from prompt-toolkit!=3.0.0,!=3.0.1,<3.1.0,>=2.0.0->ipython>=4.0.0; python_version >= \"3.3\"->ipywidgets) (0.1.9)\nRequirement already satisfied: MarkupSafe>=0.23 in c:\\users\\saksham\\appdata\\roaming\\python\\python38\\site-packages (from jinja2->notebook>=4.4.1->widgetsnbextension~=3.5.0->ipywidgets) (1.1.1)\nRequirement already satisfied: testpath in c:\\users\\saksham\\appdata\\roaming\\python\\python38\\site-packages (from nbconvert->notebook>=4.4.1->widgetsnbextension~=3.5.0->ipywidgets) (0.4.4)\nRequirement already satisfied: pandocfilters>=1.4.1 in c:\\users\\saksham\\appdata\\roaming\\python\\python38\\site-packages (from nbconvert->notebook>=4.4.1->widgetsnbextension~=3.5.0->ipywidgets) (1.4.2)\nRequirement already satisfied: bleach in c:\\users\\saksham\\appdata\\roaming\\python\\python38\\site-packages (from nbconvert->notebook>=4.4.1->widgetsnbextension~=3.5.0->ipywidgets) (3.1.4)\nRequirement already satisfied: entrypoints>=0.2.2 in c:\\users\\saksham\\appdata\\roaming\\python\\python38\\site-packages (from nbconvert->notebook>=4.4.1->widgetsnbextension~=3.5.0->ipywidgets) (0.3)\nRequirement already satisfied: defusedxml in c:\\users\\saksham\\appdata\\roaming\\python\\python38\\site-packages (from nbconvert->notebook>=4.4.1->widgetsnbextension~=3.5.0->ipywidgets) (0.6.0)\nRequirement already satisfied: mistune<2,>=0.8.1 in c:\\users\\saksham\\appdata\\roaming\\python\\python38\\site-packages (from nbconvert->notebook>=4.4.1->widgetsnbextension~=3.5.0->ipywidgets) (0.8.4)\nRequirement already satisfied: pywinpty>=0.5; os_name == \"nt\" in c:\\users\\saksham\\appdata\\roaming\\python\\python38\\site-packages (from terminado>=0.8.1->notebook>=4.4.1->widgetsnbextension~=3.5.0->ipywidgets) (0.5.7)\nRequirement already satisfied: webencodings in c:\\users\\saksham\\appdata\\roaming\\python\\python38\\site-packages (from bleach->nbconvert->notebook>=4.4.1->widgetsnbextension~=3.5.0->ipywidgets) (0.5.1)\n'jupyter' is not recognized as an internal or external command,\noperable program or batch file.\n'jupyter' is not recognized as an internal or external command,\noperable program or batch file.\n"
    },
    {
     "output_type": "error",
     "ename": "ModuleNotFoundError",
     "evalue": "No module named 'wordcloud'",
     "traceback": [
      "\u001b[1;31m---------------------------------------------------------------------------\u001b[0m",
      "\u001b[1;31mModuleNotFoundError\u001b[0m                       Traceback (most recent call last)",
      "\u001b[1;32m<ipython-input-4-b307209b0d99>\u001b[0m in \u001b[0;36m<module>\u001b[1;34m\u001b[0m\n\u001b[0;32m      7\u001b[0m \u001b[0mget_ipython\u001b[0m\u001b[1;33m(\u001b[0m\u001b[1;33m)\u001b[0m\u001b[1;33m.\u001b[0m\u001b[0msystem\u001b[0m\u001b[1;33m(\u001b[0m\u001b[1;34m'jupyter nbextension enable --py fileupload'\u001b[0m\u001b[1;33m)\u001b[0m\u001b[1;33m\u001b[0m\u001b[1;33m\u001b[0m\u001b[0m\n\u001b[0;32m      8\u001b[0m \u001b[1;33m\u001b[0m\u001b[0m\n\u001b[1;32m----> 9\u001b[1;33m \u001b[1;32mimport\u001b[0m \u001b[0mwordcloud\u001b[0m\u001b[1;33m\u001b[0m\u001b[1;33m\u001b[0m\u001b[0m\n\u001b[0m\u001b[0;32m     10\u001b[0m \u001b[1;32mimport\u001b[0m \u001b[0mnumpy\u001b[0m \u001b[1;32mas\u001b[0m \u001b[0mnp\u001b[0m\u001b[1;33m\u001b[0m\u001b[1;33m\u001b[0m\u001b[0m\n\u001b[0;32m     11\u001b[0m \u001b[1;32mfrom\u001b[0m \u001b[0mmatplotlib\u001b[0m \u001b[1;32mimport\u001b[0m \u001b[0mpyplot\u001b[0m \u001b[1;32mas\u001b[0m \u001b[0mplt\u001b[0m\u001b[1;33m\u001b[0m\u001b[1;33m\u001b[0m\u001b[0m\n",
      "\u001b[1;31mModuleNotFoundError\u001b[0m: No module named 'wordcloud'"
     ]
    }
   ],
   "source": [
    "# Here are all the installs and imports you will need for your word cloud script and uploader widget\n",
    "\n",
    "!pip install wordcloud\n",
    "!pip install fileupload\n",
    "!pip install ipywidgets\n",
    "!jupyter nbextension install --py --user fileupload\n",
    "!jupyter nbextension enable --py fileupload\n",
    "\n",
    "import wordcloud\n",
    "import numpy as np\n",
    "from matplotlib import pyplot as plt\n",
    "from IPython.display import display\n",
    "import fileupload\n",
    "import io\n",
    "import sys"
   ]
  },
  {
   "cell_type": "markdown",
   "metadata": {},
   "source": [
    "Whew! That was a lot. All of the installs and imports for your word cloud script and uploader widget have been completed. \n",
    "<br><br>\n",
    "**IMPORTANT!** If this was your first time running the above cell containing the installs and imports, you will need save this notebook now. Then under the File menu above,  select Close and Halt. When the notebook has completely shut down, reopen it. This is the only way the necessary changes will take affect.\n",
    "<br><br>\n",
    "To upload your text file, run the following cell that contains all the code for a custom uploader widget. Once you run this cell, a \"Browse\" button should appear below it. Click this button and navigate the window to locate your saved text file."
   ]
  },
  {
   "cell_type": "code",
   "execution_count": null,
   "metadata": {},
   "outputs": [],
   "source": [
    "# This is the uploader widget\n",
    "\n",
    "def _upload():\n",
    "\n",
    "    _upload_widget = fileupload.FileUploadWidget()\n",
    "\n",
    "    def _cb(change):\n",
    "        global file_contents\n",
    "        decoded = io.StringIO(change['owner'].data.decode('utf-8'))\n",
    "        filename = change['owner'].filename\n",
    "        print('Uploaded `{}` ({:.2f} kB)'.format(\n",
    "            filename, len(decoded.read()) / 2 **10))\n",
    "        file_contents = decoded.getvalue()\n",
    "\n",
    "    _upload_widget.observe(_cb, names='data')\n",
    "    display(_upload_widget)\n",
    "\n",
    "_upload()"
   ]
  },
  {
   "cell_type": "markdown",
   "metadata": {},
   "source": [
    "The uploader widget saved the contents of your uploaded file into a string object named *file_contents* that your word cloud script can process. This was a lot of preliminary work, but you are now ready to begin your script. "
   ]
  },
  {
   "cell_type": "markdown",
   "metadata": {},
   "source": [
    "Write a function in the cell below that iterates through the words in *file_contents*, removes punctuation, and counts the frequency of each word.  Oh, and be sure to make it ignore word case, words that do not contain all alphabets and boring words like \"and\" or \"the\".  Then use it in the `generate_from_frequencies` function to generate your very own word cloud!\n",
    "<br><br>\n",
    "**Hint:** Try storing the results of your iteration in a dictionary before passing them into wordcloud via the `generate_from_frequencies` function."
   ]
  },
  {
   "cell_type": "code",
   "execution_count": null,
   "metadata": {},
   "outputs": [],
   "source": [
    "def calculate_frequencies(file_contents):\n",
    "    # Here is a list of punctuations and uninteresting words you can use to process your text\n",
    "    punctuations = '''!()-[]{};:'\"\\,<>./?@#$%^&*_~'''\n",
    "    uninteresting_words = [\"the\", \"a\", \"to\", \"if\", \"is\", \"it\", \"of\", \"and\", \"or\", \"an\", \"as\", \"i\", \"me\", \"my\", \\\n",
    "    \"we\", \"our\", \"ours\", \"you\", \"your\", \"yours\", \"he\", \"she\", \"him\", \"his\", \"her\", \"hers\", \"its\", \"they\", \"them\", \\\n",
    "    \"their\", \"what\", \"which\", \"who\", \"whom\", \"this\", \"that\", \"am\", \"are\", \"was\", \"were\", \"be\", \"been\", \"being\", \\\n",
    "    \"have\", \"has\", \"had\", \"do\", \"does\", \"did\", \"but\", \"at\", \"by\", \"with\", \"from\", \"here\", \"when\", \"where\", \"how\", \\\n",
    "    \"all\", \"any\", \"both\", \"each\", \"few\", \"more\", \"some\", \"such\", \"no\", \"nor\", \"too\", \"very\", \"can\", \"will\", \"just\"]\n",
    "    \n",
    "    # LEARNER CODE START HERE\n",
    "    result = {}\n",
    "    a = file_contents.split()\n",
    "    for word in a:\n",
    "        if word in uninteresting_words:\n",
    "            pass\n",
    "        else:\n",
    "            for letter in word:\n",
    "                if letter in punctuations:\n",
    "                    letter.replace(punctuations,\"\")\n",
    "            if word not in result.keys():\n",
    "                result[word]=0\n",
    "            else:\n",
    "                result[word]+=1\n",
    "   # print(result)\n",
    "\n",
    "    \n",
    "    #wordcloud\n",
    "    cloud = wordcloud.WordCloud()\n",
    "    cloud.generate_from_frequencies(result)\n",
    "    return cloud.to_array()\n",
    "    "
   ]
  },
  {
   "cell_type": "markdown",
   "metadata": {},
   "source": [
    "If you have done everything correctly, your word cloud image should appear after running the cell below.  Fingers crossed!"
   ]
  },
  {
   "cell_type": "code",
   "execution_count": 8,
   "metadata": {},
   "outputs": [
    {
     "output_type": "error",
     "ename": "NameError",
     "evalue": "name 'file_contents' is not defined",
     "traceback": [
      "\u001b[1;31m---------------------------------------------------------------------------\u001b[0m",
      "\u001b[1;31mNameError\u001b[0m                                 Traceback (most recent call last)",
      "\u001b[1;32m<ipython-input-8-2df9b2158729>\u001b[0m in \u001b[0;36m<module>\u001b[1;34m\u001b[0m\n\u001b[0;32m      1\u001b[0m \u001b[1;31m# Display your wordcloud image\u001b[0m\u001b[1;33m\u001b[0m\u001b[1;33m\u001b[0m\u001b[1;33m\u001b[0m\u001b[0m\n\u001b[0;32m      2\u001b[0m \u001b[0mfile_contact\u001b[0m \u001b[1;33m=\u001b[0m\u001b[1;36m1\u001b[0m\u001b[1;33m\u001b[0m\u001b[1;33m\u001b[0m\u001b[0m\n\u001b[1;32m----> 3\u001b[1;33m \u001b[0mmyimage\u001b[0m \u001b[1;33m=\u001b[0m \u001b[0mcalculate_frequencies\u001b[0m\u001b[1;33m(\u001b[0m\u001b[0mfile_contents\u001b[0m\u001b[1;33m)\u001b[0m\u001b[1;33m\u001b[0m\u001b[1;33m\u001b[0m\u001b[0m\n\u001b[0m\u001b[0;32m      4\u001b[0m \u001b[0mplt\u001b[0m\u001b[1;33m.\u001b[0m\u001b[0mimshow\u001b[0m\u001b[1;33m(\u001b[0m\u001b[0mmyimage\u001b[0m\u001b[1;33m,\u001b[0m \u001b[0minterpolation\u001b[0m \u001b[1;33m=\u001b[0m \u001b[1;34m'nearest'\u001b[0m\u001b[1;33m)\u001b[0m\u001b[1;33m\u001b[0m\u001b[1;33m\u001b[0m\u001b[0m\n\u001b[0;32m      5\u001b[0m \u001b[0mplt\u001b[0m\u001b[1;33m.\u001b[0m\u001b[0maxis\u001b[0m\u001b[1;33m(\u001b[0m\u001b[1;34m'off'\u001b[0m\u001b[1;33m)\u001b[0m\u001b[1;33m\u001b[0m\u001b[1;33m\u001b[0m\u001b[0m\n",
      "\u001b[1;31mNameError\u001b[0m: name 'file_contents' is not defined"
     ]
    }
   ],
   "source": [
    "# Display your wordcloud image\n",
    "\n",
    "myimage = calculate_frequencies(file_contents)\n",
    "plt.imshow(myimage, interpolation = 'nearest')\n",
    "plt.axis('off')\n",
    "plt.show()"
   ]
  },
  {
   "cell_type": "markdown",
   "metadata": {},
   "source": [
    "If your word cloud image did not appear, go back and rework your `calculate_frequencies` function until you get the desired output.  Definitely check that you passed your frequecy count dictionary into the `generate_from_frequencies` function of `wordcloud`. Once you have correctly displayed your word cloud image, you are all done with this project. Nice work!"
   ]
  }
 ],
 "metadata": {
  "coursera": {
   "course_slug": "python-crash-course",
   "graded_item_id": "Z5d28",
   "launcher_item_id": "eSjyd"
  },
  "kernelspec": {
   "display_name": "Python 3",
   "language": "python",
   "name": "python3"
  },
  "language_info": {
   "codemirror_mode": {
    "name": "ipython",
    "version": 3
   },
   "file_extension": ".py",
   "mimetype": "text/x-python",
   "name": "python",
   "nbconvert_exporter": "python",
   "pygments_lexer": "ipython3",
   "version": "3.8.0-final"
  },
  "widgets": {
   "application/vnd.jupyter.widget-state+json": {
    "state": {},
    "version_major": 2,
    "version_minor": 0
   }
  }
 },
 "nbformat": 4,
 "nbformat_minor": 2
}